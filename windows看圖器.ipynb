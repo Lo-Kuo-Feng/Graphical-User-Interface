{
 "cells": [
  {
   "cell_type": "markdown",
   "metadata": {},
   "source": [
    "[用python的tkinter庫製作仿windows看圖器](https://www.twblogs.net/a/5c6141abbd9eee06ef372c92)"
   ]
  },
  {
   "cell_type": "code",
   "execution_count": 1,
   "metadata": {},
   "outputs": [
    {
     "name": "stderr",
     "output_type": "stream",
     "text": [
      "Exception in Tkinter callback\n",
      "Traceback (most recent call last):\n",
      "  File \"C:\\Users\\user\\Anaconda3\\lib\\tkinter\\__init__.py\", line 1699, in __call__\n",
      "    return self.func(*args)\n",
      "  File \"<ipython-input-1-fda71e2d0a58>\", line 57, in back\n",
      "    show_image(filepath2)\n",
      "  File \"<ipython-input-1-fda71e2d0a58>\", line 25, in show_image\n",
      "    image = Image.open(path)  # 打開圖片\n",
      "  File \"C:\\Users\\user\\Anaconda3\\lib\\site-packages\\PIL\\Image.py\", line 2687, in open\n",
      "    % (filename if filename else fp))\n",
      "OSError: cannot identify image file 'C:/Users/user/Desktop/新增資料夾a\\\\cv.ipynb'\n"
     ]
    }
   ],
   "source": [
    "import tkinter as tk\n",
    "from PIL import ImageTk,Image\n",
    "from tkinter import filedialog\n",
    "import os\n",
    "\n",
    "root=tk.Tk()\n",
    "root.title('圖片查看器')\n",
    "root.geometry('500x500')\n",
    "\n",
    "canvas=tk.Canvas(root,height=400,width=400)\n",
    "canvas.pack()\n",
    "\n",
    "path=tk.StringVar()\n",
    "\n",
    "def resize(image):\n",
    "    w, h = image.size\n",
    "    mlength = max(w, h)  # 找出最大的邊\n",
    "    mul = 400 / mlength  # 縮放倍數\n",
    "    w1 = int(w * mul)  # 重新獲得高和寬\n",
    "    h1 = int(h * mul)\n",
    "    return image.resize((w1, h1))\n",
    "\n",
    "def show_image(path):\n",
    "    global img   #要申明全局變量我猜測是調用了canvas\n",
    "    image = Image.open(path)  # 打開圖片\n",
    "    re_image = resize(image)  # 調用函數\n",
    "    img = ImageTk.PhotoImage(re_image)  # PhotoImage類是用來在label和canvas展示圖片用的\n",
    "    canvas.create_image(200, 200, anchor='center', image=img)\n",
    "\n",
    "def openpicture():\n",
    "#打開一張圖片並顯示\n",
    "    global fileindex,fatherpath,files,file_num\n",
    "\n",
    "    filepath=filedialog.askopenfilename()\n",
    "    fatherpath=os.path.dirname(filepath)      #獲取該路徑的上一級路徑\n",
    "    filename=os.path.basename(filepath)   #獲取該路徑下的文件名\n",
    "    files=os.listdir(fatherpath)     #該路徑下的所有文件並生成列表\n",
    "    file_num=len(files)\n",
    "    fileindex=files.index(filename)    #獲取當前文件的索引值\n",
    "    show_image(filepath)\n",
    "\n",
    "\n",
    "def previous():\n",
    "    global fileindex, fatherpath, files,file_num\n",
    "    fileindex -=1\n",
    "    if fileindex == -1:\n",
    "        fileindex = file_num-1\n",
    "    filepath1=os.path.join(fatherpath, files[fileindex])\n",
    "    show_image(filepath1)\n",
    "\n",
    "def back():\n",
    "    global fileindex, fatherpath, files,file_num\n",
    "    fileindex += 1\n",
    "    if fileindex == file_num:\n",
    "        fileindex = 0\n",
    "    filepath2 = os.path.join(fatherpath, files[fileindex])\n",
    "    show_image(filepath2)\n",
    "\n",
    "b=tk.Button(root,text='select a picture',command=openpicture)\n",
    "b.pack()\n",
    "\n",
    "b1=tk.Button(root,text='上一張',command=previous).pack(side='left')\n",
    "b2=tk.Button(root,text='下一張',command=back).pack(side='right')\n",
    "\n",
    "tk.mainloop()"
   ]
  },
  {
   "cell_type": "code",
   "execution_count": null,
   "metadata": {
    "collapsed": true
   },
   "outputs": [],
   "source": []
  }
 ],
 "metadata": {
  "kernelspec": {
   "display_name": "Python 3",
   "language": "python",
   "name": "python3"
  },
  "language_info": {
   "codemirror_mode": {
    "name": "ipython",
    "version": 3
   },
   "file_extension": ".py",
   "mimetype": "text/x-python",
   "name": "python",
   "nbconvert_exporter": "python",
   "pygments_lexer": "ipython3",
   "version": "3.6.3"
  }
 },
 "nbformat": 4,
 "nbformat_minor": 2
}
