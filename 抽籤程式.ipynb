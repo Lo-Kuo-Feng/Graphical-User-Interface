{
 "cells": [
  {
   "cell_type": "code",
   "execution_count": 1,
   "metadata": {
    "collapsed": true
   },
   "outputs": [],
   "source": [
    "import tkinter as tk\n",
    "import random\n",
    "\n",
    "def draw_straws():\n",
    "    members = [\"A\", \"B\", \"C\", \"D\", \"E\"]\n",
    "    label.configure(text=random.choice(members))\n",
    "    \n",
    "root = tk.Tk()\n",
    "root.geometry('400x200')\n",
    "\n",
    "label = tk.Label(bg=\"#FFE873\", font=\"Helvetica 15 bold\", anchor=\"c\", text=\"answer\")\n",
    "label.config(width=15 ,height=3)\n",
    "# label.grid(column=0, row=0)\n",
    "\n",
    "button = tk.Button(text=\"calculation\", command=draw_straws)\n",
    "button.config(width=15 ,height=3)\n",
    "# button.grid(column=0, row=2)\n",
    "\n",
    "label.pack()\n",
    "button.pack()\n",
    "\n",
    "root.mainloop()"
   ]
  },
  {
   "cell_type": "code",
   "execution_count": null,
   "metadata": {
    "collapsed": true
   },
   "outputs": [],
   "source": []
  }
 ],
 "metadata": {
  "kernelspec": {
   "display_name": "Python 3",
   "language": "python",
   "name": "python3"
  },
  "language_info": {
   "codemirror_mode": {
    "name": "ipython",
    "version": 3
   },
   "file_extension": ".py",
   "mimetype": "text/x-python",
   "name": "python",
   "nbconvert_exporter": "python",
   "pygments_lexer": "ipython3",
   "version": "3.6.3"
  }
 },
 "nbformat": 4,
 "nbformat_minor": 2
}
