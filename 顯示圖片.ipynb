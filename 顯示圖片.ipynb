{
 "cells": [
  {
   "cell_type": "code",
   "execution_count": 13,
   "metadata": {},
   "outputs": [],
   "source": [
    "import tkinter as tk\n",
    "import tkinter.filedialog as fd\n",
    "from tkinter import messagebox\n",
    "import PIL.Image\n",
    "import PIL.ImageTk\n",
    "\n",
    "def dispPhoto(path):\n",
    "#     newImage = PIL.Image.open(path).convert(\"L\").resize((32,32)).resize((300,300))\n",
    "    newImage = PIL.Image.open(path)\n",
    "    imageData = PIL.ImageTk.PhotoImage(newImage)\n",
    "    label.configure(image=imageData)\n",
    "    label.image = imageData\n",
    "    \n",
    "def openFile():\n",
    "    fpath = fd.askopenfilename()\n",
    "    \n",
    "    if fpath:\n",
    "        dispPhoto(fpath)\n",
    "        \n",
    "def clear():\n",
    "\n",
    "    label.config(image=\"\")\n",
    "        \n",
    "def about():\n",
    "    messagebox.showinfo(\"Information\",\"按下'開啟檔案'即可找尋圖片！\")\n",
    "        \n",
    "root = tk.Tk()\n",
    "root.title('Photo Image')\n",
    "root.geometry('400x350')\n",
    "# root.resizable(width=False, height=False)\n",
    "\n",
    "menubar = tk.Menu(root)\n",
    "\n",
    "filemenu = tk.Menu(menubar, tearoff=0)\n",
    "menubar.add_cascade(label='File', menu=filemenu)\n",
    "filemenu.add_command(label='Open', command=openFile)\n",
    "filemenu.add_command(label='Exit', command=root.destroy)\n",
    "\n",
    "editmenu = tk.Menu(menubar, tearoff=0)\n",
    "menubar.add_cascade(label='Edit', menu=editmenu)\n",
    "editmenu.add_command(label='clear', command=clear) \n",
    "\n",
    "\n",
    "\n",
    "helpmenu = tk.Menu(menubar, tearoff=0)\n",
    "menubar.add_cascade(label='Help', menu=helpmenu)\n",
    "helpmenu.add_command(label='about', command=about) \n",
    "\n",
    "root.config(menu=menubar)\n",
    "\n",
    "button = tk.Button(text=\"開啟檔案\", command=openFile)\n",
    "button.config(width=15 ,height=3)\n",
    "label = tk.Label(bg=\"#FFE873\")\n",
    "label.pack()\n",
    "button.pack()\n",
    "\n",
    "root.mainloop()"
   ]
  },
  {
   "cell_type": "code",
   "execution_count": null,
   "metadata": {
    "collapsed": true
   },
   "outputs": [],
   "source": []
  }
 ],
 "metadata": {
  "kernelspec": {
   "display_name": "Python 3",
   "language": "python",
   "name": "python3"
  },
  "language_info": {
   "codemirror_mode": {
    "name": "ipython",
    "version": 3
   },
   "file_extension": ".py",
   "mimetype": "text/x-python",
   "name": "python",
   "nbconvert_exporter": "python",
   "pygments_lexer": "ipython3",
   "version": "3.6.3"
  }
 },
 "nbformat": 4,
 "nbformat_minor": 2
}
